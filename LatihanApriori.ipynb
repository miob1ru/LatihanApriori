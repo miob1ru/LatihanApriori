{
 "cells": [
  {
   "cell_type": "code",
   "execution_count": 32,
   "id": "9e85cc55",
   "metadata": {},
   "outputs": [],
   "source": [
    "import numpy as np\n",
    "import pandas as pd\n",
    "from apyori import apriori"
   ]
  },
  {
   "cell_type": "code",
   "execution_count": 33,
   "id": "da3994cc",
   "metadata": {},
   "outputs": [],
   "source": [
    "store_data = pd.read_excel('F:\\AndiSurya\\PPB2\\LatihanApriori\\data.xls')"
   ]
  },
  {
   "cell_type": "code",
   "execution_count": 34,
   "id": "f99b706f",
   "metadata": {},
   "outputs": [
    {
     "data": {
      "text/html": [
       "<div>\n",
       "<style scoped>\n",
       "    .dataframe tbody tr th:only-of-type {\n",
       "        vertical-align: middle;\n",
       "    }\n",
       "\n",
       "    .dataframe tbody tr th {\n",
       "        vertical-align: top;\n",
       "    }\n",
       "\n",
       "    .dataframe thead th {\n",
       "        text-align: right;\n",
       "    }\n",
       "</style>\n",
       "<table border=\"1\" class=\"dataframe\">\n",
       "  <thead>\n",
       "    <tr style=\"text-align: right;\">\n",
       "      <th></th>\n",
       "      <th>Wine</th>\n",
       "      <th>Chips</th>\n",
       "      <th>Bread</th>\n",
       "      <th>Butter</th>\n",
       "      <th>Milk</th>\n",
       "      <th>Apple</th>\n",
       "    </tr>\n",
       "  </thead>\n",
       "  <tbody>\n",
       "    <tr>\n",
       "      <th>0</th>\n",
       "      <td>Wine</td>\n",
       "      <td>NaN</td>\n",
       "      <td>Bread</td>\n",
       "      <td>Butter</td>\n",
       "      <td>Milk</td>\n",
       "      <td>NaN</td>\n",
       "    </tr>\n",
       "    <tr>\n",
       "      <th>1</th>\n",
       "      <td>NaN</td>\n",
       "      <td>NaN</td>\n",
       "      <td>Bread</td>\n",
       "      <td>Butter</td>\n",
       "      <td>Milk</td>\n",
       "      <td>NaN</td>\n",
       "    </tr>\n",
       "    <tr>\n",
       "      <th>2</th>\n",
       "      <td>NaN</td>\n",
       "      <td>Chips</td>\n",
       "      <td>NaN</td>\n",
       "      <td>NaN</td>\n",
       "      <td>NaN</td>\n",
       "      <td>Apple</td>\n",
       "    </tr>\n",
       "    <tr>\n",
       "      <th>3</th>\n",
       "      <td>Wine</td>\n",
       "      <td>Chips</td>\n",
       "      <td>Bread</td>\n",
       "      <td>Butter</td>\n",
       "      <td>Milk</td>\n",
       "      <td>Apple</td>\n",
       "    </tr>\n",
       "    <tr>\n",
       "      <th>4</th>\n",
       "      <td>Wine</td>\n",
       "      <td>Chips</td>\n",
       "      <td>NaN</td>\n",
       "      <td>NaN</td>\n",
       "      <td>Milk</td>\n",
       "      <td>NaN</td>\n",
       "    </tr>\n",
       "  </tbody>\n",
       "</table>\n",
       "</div>"
      ],
      "text/plain": [
       "   Wine  Chips  Bread  Butter  Milk  Apple\n",
       "0  Wine    NaN  Bread  Butter  Milk    NaN\n",
       "1   NaN    NaN  Bread  Butter  Milk    NaN\n",
       "2   NaN  Chips    NaN     NaN   NaN  Apple\n",
       "3  Wine  Chips  Bread  Butter  Milk  Apple\n",
       "4  Wine  Chips    NaN     NaN  Milk    NaN"
      ]
     },
     "execution_count": 34,
     "metadata": {},
     "output_type": "execute_result"
    }
   ],
   "source": [
    "store_data.head()"
   ]
  },
  {
   "cell_type": "code",
   "execution_count": 35,
   "id": "e0d1a63b",
   "metadata": {},
   "outputs": [
    {
     "data": {
      "text/html": [
       "<div>\n",
       "<style scoped>\n",
       "    .dataframe tbody tr th:only-of-type {\n",
       "        vertical-align: middle;\n",
       "    }\n",
       "\n",
       "    .dataframe tbody tr th {\n",
       "        vertical-align: top;\n",
       "    }\n",
       "\n",
       "    .dataframe thead th {\n",
       "        text-align: right;\n",
       "    }\n",
       "</style>\n",
       "<table border=\"1\" class=\"dataframe\">\n",
       "  <thead>\n",
       "    <tr style=\"text-align: right;\">\n",
       "      <th></th>\n",
       "      <th>Wine</th>\n",
       "      <th>Chips</th>\n",
       "      <th>Bread</th>\n",
       "      <th>Butter</th>\n",
       "      <th>Milk</th>\n",
       "      <th>Apple</th>\n",
       "    </tr>\n",
       "  </thead>\n",
       "  <tbody>\n",
       "    <tr>\n",
       "      <th>45</th>\n",
       "      <td>NaN</td>\n",
       "      <td>Chips</td>\n",
       "      <td>NaN</td>\n",
       "      <td>Butter</td>\n",
       "      <td>Milk</td>\n",
       "      <td>Apple</td>\n",
       "    </tr>\n",
       "    <tr>\n",
       "      <th>46</th>\n",
       "      <td>Wine</td>\n",
       "      <td>Chips</td>\n",
       "      <td>Bread</td>\n",
       "      <td>Butter</td>\n",
       "      <td>Milk</td>\n",
       "      <td>Apple</td>\n",
       "    </tr>\n",
       "    <tr>\n",
       "      <th>47</th>\n",
       "      <td>Wine</td>\n",
       "      <td>NaN</td>\n",
       "      <td>Bread</td>\n",
       "      <td>Butter</td>\n",
       "      <td>Milk</td>\n",
       "      <td>Apple</td>\n",
       "    </tr>\n",
       "    <tr>\n",
       "      <th>48</th>\n",
       "      <td>Wine</td>\n",
       "      <td>Chips</td>\n",
       "      <td>Bread</td>\n",
       "      <td>NaN</td>\n",
       "      <td>Milk</td>\n",
       "      <td>Apple</td>\n",
       "    </tr>\n",
       "    <tr>\n",
       "      <th>49</th>\n",
       "      <td>NaN</td>\n",
       "      <td>Chips</td>\n",
       "      <td>NaN</td>\n",
       "      <td>NaN</td>\n",
       "      <td>NaN</td>\n",
       "      <td>NaN</td>\n",
       "    </tr>\n",
       "  </tbody>\n",
       "</table>\n",
       "</div>"
      ],
      "text/plain": [
       "    Wine  Chips  Bread  Butter  Milk  Apple\n",
       "45   NaN  Chips    NaN  Butter  Milk  Apple\n",
       "46  Wine  Chips  Bread  Butter  Milk  Apple\n",
       "47  Wine    NaN  Bread  Butter  Milk  Apple\n",
       "48  Wine  Chips  Bread     NaN  Milk  Apple\n",
       "49   NaN  Chips    NaN     NaN   NaN    NaN"
      ]
     },
     "execution_count": 35,
     "metadata": {},
     "output_type": "execute_result"
    }
   ],
   "source": [
    "store_data.tail()"
   ]
  },
  {
   "cell_type": "code",
   "execution_count": 36,
   "id": "a718b09b",
   "metadata": {},
   "outputs": [
    {
     "data": {
      "text/plain": [
       "(50, 6)"
      ]
     },
     "execution_count": 36,
     "metadata": {},
     "output_type": "execute_result"
    }
   ],
   "source": [
    "store_data.shape"
   ]
  },
  {
   "cell_type": "code",
   "execution_count": 37,
   "id": "b4386670",
   "metadata": {},
   "outputs": [],
   "source": [
    "records = []\n",
    "for i in range(0, 50):\n",
    "    records.append([str(store_data.values[i,j])for j in range(0,6)])"
   ]
  },
  {
   "cell_type": "code",
   "execution_count": 38,
   "id": "354bc194",
   "metadata": {},
   "outputs": [],
   "source": [
    "association_rules = apriori(records, min_support=0.2, min_confidence=0.1, min_lift=1.2)\n",
    "association_results = list(association_rules)"
   ]
  },
  {
   "cell_type": "code",
   "execution_count": 39,
   "id": "dece0c31",
   "metadata": {},
   "outputs": [
    {
     "name": "stdout",
     "output_type": "stream",
     "text": [
      "15\n"
     ]
    }
   ],
   "source": [
    "print(len(association_results))"
   ]
  },
  {
   "cell_type": "code",
   "execution_count": 40,
   "id": "3d252366",
   "metadata": {},
   "outputs": [
    {
     "name": "stdout",
     "output_type": "stream",
     "text": [
      "RelationRecord(items=frozenset({'Bread', 'Apple', 'Wine'}), support=0.58, ordered_statistics=[OrderedStatistic(items_base=frozenset({'Bread'}), items_add=frozenset({'Apple', 'Wine'}), confidence=0.7435897435897435, lift=1.2393162393162391), OrderedStatistic(items_base=frozenset({'Apple', 'Wine'}), items_add=frozenset({'Bread'}), confidence=0.9666666666666667, lift=1.2393162393162394)])\n"
     ]
    }
   ],
   "source": [
    "print(association_results[0])"
   ]
  },
  {
   "cell_type": "code",
   "execution_count": 43,
   "id": "1b366d30",
   "metadata": {},
   "outputs": [
    {
     "name": "stdout",
     "output_type": "stream",
     "text": [
      "  title1 title2 support confidence    lift\n",
      "0  Bread  Apple    0.58     0.7435  1.2393\n",
      "  title1 title2 support confidence    lift\n",
      "0  Bread  Apple    0.58     0.7435  1.2393\n",
      "1  Bread   Wine     0.5     0.6410  1.2327\n",
      "  title1 title2 support confidence    lift\n",
      "0  Bread  Apple    0.58     0.7435  1.2393\n",
      "1  Bread   Wine     0.5     0.6410  1.2327\n",
      "2  Bread  Apple    0.44     0.5641  1.2263\n",
      "  title1 title2 support confidence    lift\n",
      "0  Bread  Apple    0.58     0.7435  1.2393\n",
      "1  Bread   Wine     0.5     0.6410  1.2327\n",
      "2  Bread  Apple    0.44     0.5641  1.2263\n",
      "3  Bread  Apple    0.34     0.4358  1.2820\n",
      "  title1 title2 support confidence    lift\n",
      "0  Bread  Apple    0.58     0.7435  1.2393\n",
      "1  Bread   Wine     0.5     0.6410  1.2327\n",
      "2  Bread  Apple    0.44     0.5641  1.2263\n",
      "3  Bread  Apple    0.34     0.4358  1.2820\n",
      "4  Bread  Apple    0.54     0.6923  1.2362\n",
      "  title1 title2 support confidence    lift\n",
      "0  Bread  Apple    0.58     0.7435  1.2393\n",
      "1  Bread   Wine     0.5     0.6410  1.2327\n",
      "2  Bread  Apple    0.44     0.5641  1.2263\n",
      "3  Bread  Apple    0.34     0.4358  1.2820\n",
      "4  Bread  Apple    0.54     0.6923  1.2362\n",
      "5  Bread  Apple    0.36     0.4615  1.2145\n",
      "  title1 title2 support confidence    lift\n",
      "0  Bread  Apple    0.58     0.7435  1.2393\n",
      "1  Bread   Wine     0.5     0.6410  1.2327\n",
      "2  Bread  Apple    0.44     0.5641  1.2263\n",
      "3  Bread  Apple    0.34     0.4358  1.2820\n",
      "4  Bread  Apple    0.54     0.6923  1.2362\n",
      "5  Bread  Apple    0.36     0.4615  1.2145\n",
      "6  Bread   Wine    0.28     0.3589  1.2820\n",
      "  title1 title2 support confidence    lift\n",
      "0  Bread  Apple    0.58     0.7435  1.2393\n",
      "1  Bread   Wine     0.5     0.6410  1.2327\n",
      "2  Bread  Apple    0.44     0.5641  1.2263\n",
      "3  Bread  Apple    0.34     0.4358  1.2820\n",
      "4  Bread  Apple    0.54     0.6923  1.2362\n",
      "5  Bread  Apple    0.36     0.4615  1.2145\n",
      "6  Bread   Wine    0.28     0.3589  1.2820\n",
      "7  Bread   Wine    0.48     0.6153  1.2307\n",
      "  title1 title2 support confidence    lift\n",
      "0  Bread  Apple    0.58     0.7435  1.2393\n",
      "1  Bread   Wine     0.5     0.6410  1.2327\n",
      "2  Bread  Apple    0.44     0.5641  1.2263\n",
      "3  Bread  Apple    0.34     0.4358  1.2820\n",
      "4  Bread  Apple    0.54     0.6923  1.2362\n",
      "5  Bread  Apple    0.36     0.4615  1.2145\n",
      "6  Bread   Wine    0.28     0.3589  1.2820\n",
      "7  Bread   Wine    0.48     0.6153  1.2307\n",
      "8  Chips  Bread    0.24     0.3076  1.2820\n",
      "  title1 title2 support confidence    lift\n",
      "0  Bread  Apple    0.58     0.7435  1.2393\n",
      "1  Bread   Wine     0.5     0.6410  1.2327\n",
      "2  Bread  Apple    0.44     0.5641  1.2263\n",
      "3  Bread  Apple    0.34     0.4358  1.2820\n",
      "4  Bread  Apple    0.54     0.6923  1.2362\n",
      "5  Bread  Apple    0.36     0.4615  1.2145\n",
      "6  Bread   Wine    0.28     0.3589  1.2820\n",
      "7  Bread   Wine    0.48     0.6153  1.2307\n",
      "8  Chips  Bread    0.24     0.3076  1.2820\n",
      "9   Milk  Bread    0.42     0.5384  1.2237\n",
      "   title1 title2 support confidence    lift\n",
      "0   Bread  Apple    0.58     0.7435  1.2393\n",
      "1   Bread   Wine     0.5     0.6410  1.2327\n",
      "2   Bread  Apple    0.44     0.5641  1.2263\n",
      "3   Bread  Apple    0.34     0.4358  1.2820\n",
      "4   Bread  Apple    0.54     0.6923  1.2362\n",
      "5   Bread  Apple    0.36     0.4615  1.2145\n",
      "6   Bread   Wine    0.28     0.3589  1.2820\n",
      "7   Bread   Wine    0.48     0.6153  1.2307\n",
      "8   Chips  Bread    0.24     0.3076  1.2820\n",
      "9    Milk  Bread    0.42     0.5384  1.2237\n",
      "10  Chips   Milk    0.32     0.4102  1.2820\n",
      "   title1 title2 support confidence    lift\n",
      "0   Bread  Apple    0.58     0.7435  1.2393\n",
      "1   Bread   Wine     0.5     0.6410  1.2327\n",
      "2   Bread  Apple    0.44     0.5641  1.2263\n",
      "3   Bread  Apple    0.34     0.4358  1.2820\n",
      "4   Bread  Apple    0.54     0.6923  1.2362\n",
      "5   Bread  Apple    0.36     0.4615  1.2145\n",
      "6   Bread   Wine    0.28     0.3589  1.2820\n",
      "7   Bread   Wine    0.48     0.6153  1.2307\n",
      "8   Chips  Bread    0.24     0.3076  1.2820\n",
      "9    Milk  Bread    0.42     0.5384  1.2237\n",
      "10  Chips   Milk    0.32     0.4102  1.2820\n",
      "11    nan   Milk    0.32     0.4102  1.2066\n",
      "   title1 title2 support confidence    lift\n",
      "0   Bread  Apple    0.58     0.7435  1.2393\n",
      "1   Bread   Wine     0.5     0.6410  1.2327\n",
      "2   Bread  Apple    0.44     0.5641  1.2263\n",
      "3   Bread  Apple    0.34     0.4358  1.2820\n",
      "4   Bread  Apple    0.54     0.6923  1.2362\n",
      "5   Bread  Apple    0.36     0.4615  1.2145\n",
      "6   Bread   Wine    0.28     0.3589  1.2820\n",
      "7   Bread   Wine    0.48     0.6153  1.2307\n",
      "8   Chips  Bread    0.24     0.3076  1.2820\n",
      "9    Milk  Bread    0.42     0.5384  1.2237\n",
      "10  Chips   Milk    0.32     0.4102  1.2820\n",
      "11    nan   Milk    0.32     0.4102  1.2066\n",
      "12  Chips   Milk    0.26     0.3333  1.2820\n",
      "   title1 title2 support confidence    lift\n",
      "0   Bread  Apple    0.58     0.7435  1.2393\n",
      "1   Bread   Wine     0.5     0.6410  1.2327\n",
      "2   Bread  Apple    0.44     0.5641  1.2263\n",
      "3   Bread  Apple    0.34     0.4358  1.2820\n",
      "4   Bread  Apple    0.54     0.6923  1.2362\n",
      "5   Bread  Apple    0.36     0.4615  1.2145\n",
      "6   Bread   Wine    0.28     0.3589  1.2820\n",
      "7   Bread   Wine    0.48     0.6153  1.2307\n",
      "8   Chips  Bread    0.24     0.3076  1.2820\n",
      "9    Milk  Bread    0.42     0.5384  1.2237\n",
      "10  Chips   Milk    0.32     0.4102  1.2820\n",
      "11    nan   Milk    0.32     0.4102  1.2066\n",
      "12  Chips   Milk    0.26     0.3333  1.2820\n",
      "13    nan   Milk    0.26     0.3611  1.2037\n",
      "   title1 title2 support confidence    lift\n",
      "0   Bread  Apple    0.58     0.7435  1.2393\n",
      "1   Bread   Wine     0.5     0.6410  1.2327\n",
      "2   Bread  Apple    0.44     0.5641  1.2263\n",
      "3   Bread  Apple    0.34     0.4358  1.2820\n",
      "4   Bread  Apple    0.54     0.6923  1.2362\n",
      "5   Bread  Apple    0.36     0.4615  1.2145\n",
      "6   Bread   Wine    0.28     0.3589  1.2820\n",
      "7   Bread   Wine    0.48     0.6153  1.2307\n",
      "8   Chips  Bread    0.24     0.3076  1.2820\n",
      "9    Milk  Bread    0.42     0.5384  1.2237\n",
      "10  Chips   Milk    0.32     0.4102  1.2820\n",
      "11    nan   Milk    0.32     0.4102  1.2066\n",
      "12  Chips   Milk    0.26     0.3333  1.2820\n",
      "13    nan   Milk    0.26     0.3611  1.2037\n",
      "14  Chips   Milk    0.22     0.2820  1.2820\n"
     ]
    }
   ],
   "source": [
    "results =[]\n",
    "for item in association_results:\n",
    "    pair = item[0]\n",
    "    items = [x for x in pair]\n",
    "    \n",
    "    value0 = str(items[0])\n",
    "    value1 = str(items[1])\n",
    "    value2 = str(item[1])[:6]\n",
    "    value3 = str(item[2][0][2])[:6]\n",
    "    value4 = str(item[2][0][3])[:6]\n",
    "    \n",
    "    \n",
    "    rows = (value0,value1,value2,value3,value4)\n",
    "    \n",
    "    results.append(rows)\n",
    "    \n",
    "    label = ['title1', 'title2', 'support', 'confidence','lift']\n",
    "    \n",
    "    store_suggestion = pd.DataFrame.from_records(results,columns=label)\n",
    "    \n",
    "    print(store_suggestion)"
   ]
  },
  {
   "cell_type": "code",
   "execution_count": 44,
   "id": "cf4a14cd",
   "metadata": {},
   "outputs": [
    {
     "data": {
      "text/html": [
       "<div>\n",
       "<style scoped>\n",
       "    .dataframe tbody tr th:only-of-type {\n",
       "        vertical-align: middle;\n",
       "    }\n",
       "\n",
       "    .dataframe tbody tr th {\n",
       "        vertical-align: top;\n",
       "    }\n",
       "\n",
       "    .dataframe thead th {\n",
       "        text-align: right;\n",
       "    }\n",
       "</style>\n",
       "<table border=\"1\" class=\"dataframe\">\n",
       "  <thead>\n",
       "    <tr style=\"text-align: right;\">\n",
       "      <th></th>\n",
       "      <th>title1</th>\n",
       "      <th>title2</th>\n",
       "      <th>support</th>\n",
       "      <th>confidence</th>\n",
       "      <th>lift</th>\n",
       "    </tr>\n",
       "  </thead>\n",
       "  <tbody>\n",
       "    <tr>\n",
       "      <th>count</th>\n",
       "      <td>15</td>\n",
       "      <td>15</td>\n",
       "      <td>15</td>\n",
       "      <td>15</td>\n",
       "      <td>15</td>\n",
       "    </tr>\n",
       "    <tr>\n",
       "      <th>unique</th>\n",
       "      <td>4</td>\n",
       "      <td>4</td>\n",
       "      <td>13</td>\n",
       "      <td>14</td>\n",
       "      <td>10</td>\n",
       "    </tr>\n",
       "    <tr>\n",
       "      <th>top</th>\n",
       "      <td>Bread</td>\n",
       "      <td>Apple</td>\n",
       "      <td>0.32</td>\n",
       "      <td>0.4102</td>\n",
       "      <td>1.2820</td>\n",
       "    </tr>\n",
       "    <tr>\n",
       "      <th>freq</th>\n",
       "      <td>8</td>\n",
       "      <td>5</td>\n",
       "      <td>2</td>\n",
       "      <td>2</td>\n",
       "      <td>6</td>\n",
       "    </tr>\n",
       "  </tbody>\n",
       "</table>\n",
       "</div>"
      ],
      "text/plain": [
       "       title1 title2 support confidence    lift\n",
       "count      15     15      15         15      15\n",
       "unique      4      4      13         14      10\n",
       "top     Bread  Apple    0.32     0.4102  1.2820\n",
       "freq        8      5       2          2       6"
      ]
     },
     "execution_count": 44,
     "metadata": {},
     "output_type": "execute_result"
    }
   ],
   "source": [
    "store_suggestion.describe()"
   ]
  },
  {
   "cell_type": "code",
   "execution_count": 45,
   "id": "b21269af",
   "metadata": {},
   "outputs": [
    {
     "name": "stderr",
     "output_type": "stream",
     "text": [
      "C:\\Users\\PAMALA~1\\AppData\\Local\\Temp/ipykernel_53324/3511607679.py:1: FutureWarning: As the xlwt package is no longer maintained, the xlwt engine will be removed in a future version of pandas. This is the only engine in pandas that supports writing in the xls format. Install openpyxl and write to an xlsx file instead. You can set the option io.excel.xls.writer to 'xlwt' to silence this warning. While this option is deprecated and will also raise a warning, it can be globally set and the warning suppressed.\n",
      "  store_suggestion.to_excel('F:\\AndiSurya\\PPB2\\LatihanApriori\\data_output7.xls')\n"
     ]
    }
   ],
   "source": [
    "store_suggestion.to_excel('F:\\AndiSurya\\PPB2\\LatihanApriori\\data_output7.xls')"
   ]
  },
  {
   "cell_type": "code",
   "execution_count": null,
   "id": "6bcd394a",
   "metadata": {},
   "outputs": [],
   "source": []
  },
  {
   "cell_type": "code",
   "execution_count": null,
   "id": "a12bdd9c",
   "metadata": {},
   "outputs": [],
   "source": []
  }
 ],
 "metadata": {
  "kernelspec": {
   "display_name": "Python 3 (ipykernel)",
   "language": "python",
   "name": "python3"
  },
  "language_info": {
   "codemirror_mode": {
    "name": "ipython",
    "version": 3
   },
   "file_extension": ".py",
   "mimetype": "text/x-python",
   "name": "python",
   "nbconvert_exporter": "python",
   "pygments_lexer": "ipython3",
   "version": "3.9.7"
  }
 },
 "nbformat": 4,
 "nbformat_minor": 5
}
